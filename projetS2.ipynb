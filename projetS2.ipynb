{
 "cells": [
  {
   "cell_type": "code",
   "execution_count": 24,
   "metadata": {},
   "outputs": [
    {
     "ename": "RuntimeError",
     "evalue": "\n\n*** -------------------------------------------------------------------------\n*** DOLFIN encountered an error. If you are not able to resolve this issue\n*** using the information listed below, you can ask for help at\n***\n***     fenics-support@googlegroups.com\n***\n*** Remember to include the error message listed below and, if possible,\n*** include a *minimal* running example to reproduce the error.\n***\n*** -------------------------------------------------------------------------\n*** Error:   Unable to create box.\n*** Reason:  Box seems to have zero width, height or depth. Consider checking your dimensions.\n*** Where:   This error was encountered inside BoxMesh.cpp.\n*** Process: 0\n*** \n*** DOLFIN version: 2018.1.0\n*** Git changeset:  7afe9e1a24edb0e8d5ae51c3419fbb49f44d3d79\n*** -------------------------------------------------------------------------\n",
     "output_type": "error",
     "traceback": [
      "\u001b[0;31m---------------------------------------------------------------------------\u001b[0m",
      "\u001b[0;31mRuntimeError\u001b[0m                              Traceback (most recent call last)",
      "\u001b[0;32m<ipython-input-24-d345a6a19547>\u001b[0m in \u001b[0;36m<module>\u001b[0;34m()\u001b[0m\n\u001b[1;32m     13\u001b[0m \u001b[0mnz\u001b[0m \u001b[0;34m=\u001b[0m \u001b[0;36m1.0\u001b[0m\u001b[0;34m\u001b[0m\u001b[0m\n\u001b[1;32m     14\u001b[0m \u001b[0;34m\u001b[0m\u001b[0m\n\u001b[0;32m---> 15\u001b[0;31m \u001b[0mBoxMesh\u001b[0m\u001b[0;34m(\u001b[0m\u001b[0mPoint\u001b[0m\u001b[0;34m(\u001b[0m\u001b[0;36m0\u001b[0m\u001b[0;34m,\u001b[0m\u001b[0;36m0\u001b[0m\u001b[0;34m,\u001b[0m\u001b[0;36m0\u001b[0m\u001b[0;34m)\u001b[0m\u001b[0;34m,\u001b[0m \u001b[0mPoint\u001b[0m\u001b[0;34m(\u001b[0m\u001b[0;36m1\u001b[0m\u001b[0;34m,\u001b[0m\u001b[0;36m1\u001b[0m\u001b[0;34m,\u001b[0m\u001b[0;36m0\u001b[0m\u001b[0;34m)\u001b[0m\u001b[0;34m,\u001b[0m \u001b[0;36m20\u001b[0m\u001b[0;34m,\u001b[0m \u001b[0;36m20\u001b[0m\u001b[0;34m,\u001b[0m \u001b[0;36m1\u001b[0m\u001b[0;34m)\u001b[0m\u001b[0;34m\u001b[0m\u001b[0m\n\u001b[0m\u001b[1;32m     16\u001b[0m \u001b[0;34m\u001b[0m\u001b[0m\n",
      "\u001b[0;31mRuntimeError\u001b[0m: \n\n*** -------------------------------------------------------------------------\n*** DOLFIN encountered an error. If you are not able to resolve this issue\n*** using the information listed below, you can ask for help at\n***\n***     fenics-support@googlegroups.com\n***\n*** Remember to include the error message listed below and, if possible,\n*** include a *minimal* running example to reproduce the error.\n***\n*** -------------------------------------------------------------------------\n*** Error:   Unable to create box.\n*** Reason:  Box seems to have zero width, height or depth. Consider checking your dimensions.\n*** Where:   This error was encountered inside BoxMesh.cpp.\n*** Process: 0\n*** \n*** DOLFIN version: 2018.1.0\n*** Git changeset:  7afe9e1a24edb0e8d5ae51c3419fbb49f44d3d79\n*** -------------------------------------------------------------------------\n"
     ]
    }
   ],
   "source": [
    "from __future__ import print_function\n",
    "from fenics import *\n",
    "import numpy as np\n",
    "import dolfin\n",
    "\n",
    "# Create mesh and define function space\n",
    "\n",
    "l = 1.0 \n",
    "p0 = (0.0, 0.0, 0.0)\n",
    "p1 = (l, l, 0.0)\n",
    "nx = 20.0\n",
    "ny = 20.0\n",
    "nz = 1.0\n",
    "\n",
    "BoxMesh(Point(0,0,0), Point(1,1,0), 20, 20, 1)\n",
    "\n",
    "\n"
   ]
  },
  {
   "cell_type": "code",
   "execution_count": null,
   "metadata": {},
   "outputs": [],
   "source": [
    "T = 2.0            # final time\n",
    "num_steps = 10     # number of time steps\n",
    "dt = T / num_steps # time step size\n",
    "alpha = 3          # parameter alpha\n",
    "beta = 1.2         # parameter beta\n",
    "V = FunctionSpace(mesh, 'P', 1)\n",
    "\n",
    "# Define boundary condition\n",
    "#solution arbitraire\n",
    "u_D = Expression('1 + x[0]*x[0] + alpha*x[1]*x[1] + beta*t',\n",
    "                 degree=2, alpha=alpha, beta=beta, t=0)\n",
    "\n",
    "def boundary(x, on_boundary):\n",
    "    return on_boundary\n",
    "\n",
    "bc0 = DirichletBC(V, u_D, boundary)\n",
    "bc1 = DirichletBC(V, u_D, boundary)\n",
    "\n",
    "# Define initial value\n",
    "u_n = interpolate(u_D, V)\n",
    "#u_n = project(u_D, V)\n",
    "\n",
    "# Define variational problem\n",
    "u = TrialFunction(V)\n",
    "v = TestFunction(V)\n",
    "f = Constant(beta - 2 - 2*alpha)\n",
    "\n",
    "F = u*v*dx + dt*dot(grad(u), grad(v))*dx - (u_n + dt*f)*v*dx\n",
    "a, L = lhs(F), rhs(F)\n",
    "\n",
    "# Time-stepping\n",
    "u = Function(V)\n",
    "t = 0\n",
    "for n in range(num_steps):\n",
    "\n",
    "    # Update current time\n",
    "    t += dt\n",
    "    u_D.t = t\n",
    "\n",
    "    # Compute solution\n",
    "    solve(a == L, u, bc)\n",
    "\n",
    "    # Plot solution\n",
    "    plot(u)\n",
    "\n",
    "    # Compute error at vertices\n",
    "    u_e = interpolate(u_D, V)\n",
    "    error = np.abs(u_e.vector().array() - u.vector().array()).max()\n",
    "    print('t = %.2f: error = %.3g' % (t, error))\n",
    "\n",
    "    # Update previous solution\n",
    "    u_n.assign(u)\n"
   ]
  },
  {
   "cell_type": "code",
   "execution_count": 7,
   "metadata": {},
   "outputs": [
    {
     "ename": "SyntaxError",
     "evalue": "unexpected character after line continuation character (<ipython-input-7-6cc5fec17f40>, line 11)",
     "output_type": "error",
     "traceback": [
      "\u001b[0;36m  File \u001b[0;32m\"<ipython-input-7-6cc5fec17f40>\"\u001b[0;36m, line \u001b[0;32m11\u001b[0m\n\u001b[0;31m    F = kappa*dot(grad(u), grad(v))*dx + \\ sum(integrals_R) - f*v*dx + sum(integrals_N)\u001b[0m\n\u001b[0m                                                                                       ^\u001b[0m\n\u001b[0;31mSyntaxError\u001b[0m\u001b[0;31m:\u001b[0m unexpected character after line continuation character\n"
     ]
    }
   ],
   "source": [
    "a = kappa*dot(grad(u), grad(v))*dx + r*u*v*ds(R)\n",
    "L = f*v*dx - g*v*ds(N) + r*s*v*ds(R)\n",
    "\n",
    "integrals_N = []\n",
    "for i in boundary_conditions:\n",
    "    if 'Neumann' in boundary_conditions[i]:\n",
    "        if boundary_conditions[i]['Neumann'] != 0:\n",
    "            g = boundary_conditions[i]['Neumann']\n",
    "            integrals_N.append(g*v*ds(i))\n",
    "\n",
    "F = kappa*dot(grad(u), grad(v))*dx + \\ sum(integrals_R) - f*v*dx + sum(integrals_N)\n",
    "a, L = lhs(F), rhs(F)\n",
    "\n",
    "import sympy as sym\n",
    "h = 1\n",
    "x, y = sym.symbols('x[0], x[1]')            # needed by UFL\n",
    "u = 1 + x**2 + 2*y**2                       # exact solution\n",
    "u_e = u                                     # exact solution\n",
    "u_00 = u.subs(x, 0)                         # restrict to x = 0\n",
    "u_01 = u.subs(x, 1)                         # restrict to x = 1\n",
    "f = -sym.diff(u, x, 2) - sym.diff(u, y, 2)  # -Laplace(u)\n",
    "f = sym.simplify(f)                         # simplify f\n",
    "g = -sym.diff(u, y).subs(y, 1)              # compute g = -du/dn\n",
    "\n",
    "\n",
    "# Collect variables\n",
    "variables = [u_e, u_00, u_01, f, g, r, s]\n",
    "\n",
    "# Turn into C/C++ code strings\n",
    "variables = [sym.printing.ccode(var) for var in variables]\n",
    "\n",
    "# Turn into FEniCS Expressions\n",
    "variables = [Expression(var, degree=2) for var in variables]\n",
    "\n",
    "# Extract variables\n",
    "u_e, u_00, u_01, f, g, r, s = variables\n",
    "\n",
    "# Define boundary conditions\n",
    "boundary_conditions = {0: {'Dirichlet': u_00},   # x = 0\n",
    "                       1: {'Dirichlet': u_01},   # x = 1\n",
    "                       2: {'Neumann':   g}}      # y = 1\n"
   ]
  },
  {
   "cell_type": "code",
   "execution_count": null,
   "metadata": {},
   "outputs": [],
   "source": []
  }
 ],
 "metadata": {
  "kernelspec": {
   "display_name": "Python 3",
   "language": "python",
   "name": "python3"
  },
  "language_info": {
   "codemirror_mode": {
    "name": "ipython",
    "version": 3
   },
   "file_extension": ".py",
   "mimetype": "text/x-python",
   "name": "python",
   "nbconvert_exporter": "python",
   "pygments_lexer": "ipython3",
   "version": "3.5.3"
  }
 },
 "nbformat": 4,
 "nbformat_minor": 2
}
